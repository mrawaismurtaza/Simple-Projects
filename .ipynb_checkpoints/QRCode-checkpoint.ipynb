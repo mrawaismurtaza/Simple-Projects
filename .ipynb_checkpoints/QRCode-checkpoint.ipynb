{
 "cells": [
  {
   "cell_type": "code",
   "execution_count": 8,
   "id": "311211d5-a57d-4915-b0c9-f909eccb12dc",
   "metadata": {},
   "outputs": [],
   "source": [
    "import qrcode as qr\n",
    "from IPython.display import Image"
   ]
  },
  {
   "cell_type": "code",
   "execution_count": 5,
   "id": "47fae61c-4bc6-4629-8eff-22d39a9ee84f",
   "metadata": {},
   "outputs": [],
   "source": [
    "img = qr.make('https://pypi.org/project/qrcode/')"
   ]
  },
  {
   "cell_type": "code",
   "execution_count": 6,
   "id": "eb94ff62-d520-4a3b-8296-393eaae9254e",
   "metadata": {},
   "outputs": [],
   "source": [
    "img.save('Python_Library.png')"
   ]
  },
  {
   "cell_type": "code",
   "execution_count": 7,
   "id": "3ec9929f-8d05-44c4-9b78-0f48a04306bd",
   "metadata": {},
   "outputs": [],
   "source": [
    "from IPython.display import Image"
   ]
  },
  {
   "cell_type": "code",
   "execution_count": null,
   "id": "cf383f37-c6b9-49c3-869c-db9fa623372a",
   "metadata": {},
   "outputs": [],
   "source": []
  }
 ],
 "metadata": {
  "kernelspec": {
   "display_name": "Python 3 (ipykernel)",
   "language": "python",
   "name": "python3"
  },
  "language_info": {
   "codemirror_mode": {
    "name": "ipython",
    "version": 3
   },
   "file_extension": ".py",
   "mimetype": "text/x-python",
   "name": "python",
   "nbconvert_exporter": "python",
   "pygments_lexer": "ipython3",
   "version": "3.11.7"
  }
 },
 "nbformat": 4,
 "nbformat_minor": 5
}
