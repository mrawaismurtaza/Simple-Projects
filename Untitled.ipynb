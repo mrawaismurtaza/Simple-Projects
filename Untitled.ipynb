{
 "cells": [
  {
   "cell_type": "code",
   "execution_count": 1,
   "id": "1fc1d7e7-624c-4366-8f2b-e5165039d997",
   "metadata": {},
   "outputs": [],
   "source": [
    "import pyttsx3\n",
    "import speech_recognition as sr\n",
    "import webbrowser\n",
    "import datetime\n",
    "import pyjokes"
   ]
  },
  {
   "cell_type": "code",
   "execution_count": 2,
   "id": "bbe0c0c5-cbae-478e-8d78-ddf0f30ff2d4",
   "metadata": {},
   "outputs": [
    {
     "name": "stdout",
     "output_type": "stream",
     "text": [
      "Listening...\n",
      "Recognizing...\n",
      "Not Understanding\n"
     ]
    }
   ],
   "source": [
    "recognizer = sr.Recognizer()\n",
    "with sr.Microphone() as source:  # Use parentheses to correctly instantiate the Microphone object\n",
    "    print('Listening...')\n",
    "    recognizer.adjust_for_ambient_noise(source)\n",
    "    audio = recognizer.listen(source)\n",
    "    try:\n",
    "        print('Recognizing...')\n",
    "        data = recognizer.recognize_google(audio)\n",
    "        print(data)\n",
    "    except sr.UnknownValueError:\n",
    "        print('Not Understanding')"
   ]
  },
  {
   "cell_type": "code",
   "execution_count": 6,
   "id": "c9042117-3890-432f-8520-a7c69cba1522",
   "metadata": {},
   "outputs": [],
   "source": [
    "data='Uzar is Gandoo'\n",
    "engine = pyttsx3.init()\n",
    "voices = engine.getProperty('voices')\n",
    "engine.setProperty('voice', voices[1].id)\n",
    "rate = engine.getProperty('rate')\n",
    "engine.setProperty('rate', 150)\n",
    "engine.say(data)\n",
    "engine.runAndWait()\n"
   ]
  },
  {
   "cell_type": "code",
   "execution_count": null,
   "id": "b87ee33b-7bc6-4ffb-a69b-96c15ad7b8e5",
   "metadata": {},
   "outputs": [],
   "source": [
    "print(data)"
   ]
  },
  {
   "cell_type": "code",
   "execution_count": null,
   "id": "82c79026-e557-4ae5-9a6d-8a04af972f86",
   "metadata": {},
   "outputs": [],
   "source": []
  }
 ],
 "metadata": {
  "kernelspec": {
   "display_name": "Python 3 (ipykernel)",
   "language": "python",
   "name": "python3"
  },
  "language_info": {
   "codemirror_mode": {
    "name": "ipython",
    "version": 3
   },
   "file_extension": ".py",
   "mimetype": "text/x-python",
   "name": "python",
   "nbconvert_exporter": "python",
   "pygments_lexer": "ipython3",
   "version": "3.11.7"
  }
 },
 "nbformat": 4,
 "nbformat_minor": 5
}
