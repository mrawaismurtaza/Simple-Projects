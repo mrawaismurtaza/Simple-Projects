{
 "cells": [
  {
   "cell_type": "code",
   "execution_count": 2,
   "id": "311211d5-a57d-4915-b0c9-f909eccb12dc",
   "metadata": {},
   "outputs": [],
   "source": [
    "import qrcode as qr\n",
    "from IPython.display import Image"
   ]
  },
  {
   "cell_type": "code",
   "execution_count": 3,
   "id": "47fae61c-4bc6-4629-8eff-22d39a9ee84f",
   "metadata": {},
   "outputs": [],
   "source": [
    "img = qr.make('https://pypi.org/project/qrcode/')"
   ]
  },
  {
   "cell_type": "code",
   "execution_count": 4,
   "id": "eb94ff62-d520-4a3b-8296-393eaae9254e",
   "metadata": {},
   "outputs": [],
   "source": [
    "img.save('Python_Library.png')"
   ]
  },
  {
   "cell_type": "code",
   "execution_count": 5,
   "id": "3ec9929f-8d05-44c4-9b78-0f48a04306bd",
   "metadata": {},
   "outputs": [
    {
     "data": {
      "image/png": "[encoded data removed]",
      "text/plain": [
       "<IPython.core.display.Image object>"
      ]
     },
     "execution_count": 5,
     "metadata": {},
     "output_type": "execute_result"
    }
   ],
   "source": [
    "Image(filename='Python_Library.png')"
   ]
  },
  {
   "cell_type": "code",
   "execution_count": 6,
   "id": "4fbd7483-3d6f-4ecc-9379-7a8dfc1db998",
   "metadata": {},
   "outputs": [],
   "source": [
    "qrcode = qr.QRCode(version=1, error_correction=qr.constants.ERROR_CORRECT_H, box_size=10, border=4)"
   ]
  },
  {
   "cell_type": "code",
   "execution_count": 7,
   "id": "e474244b-57a5-4be8-8db2-3a0e1517559a",
   "metadata": {},
   "outputs": [],
   "source": [
    "qrcode.add_data('https://awais-murtaza.netlify.app/')"
   ]
  },
  {
   "cell_type": "code",
   "execution_count": 8,
   "id": "809f6007-1f78-4fde-b2d3-69fedfb3ec8e",
   "metadata": {},
   "outputs": [],
   "source": [
    "qrcode.make(fit=True)"
   ]
  },
  {
   "cell_type": "code",
   "execution_count": 12,
   "id": "b001ba7d-c969-4811-81c4-487bd0007922",
   "metadata": {},
   "outputs": [],
   "source": [
    "img = qrcode.make_image(fill_color='yellow',back_color='black')"
   ]
  },
  {
   "cell_type": "code",
   "execution_count": 13,
   "id": "31aee1a9-4efe-4827-b0b5-8b0ac05f612f",
   "metadata": {},
   "outputs": [],
   "source": [
    "img.save('Portfolio.png')"
   ]
  },
  {
   "cell_type": "code",
   "execution_count": 14,
   "id": "91f1d6e9-3dfd-4f25-9d67-a71a6c977119",
   "metadata": {},
   "outputs": [
    {
     "data": {
      "image/png": "[encoded data removed]",
      "text/plain": [
       "<IPython.core.display.Image object>"
      ]
     },
     "execution_count": 14,
     "metadata": {},
     "output_type": "execute_result"
    }
   ],
   "source": [
    "Image(filename='Portfolio.png')"
   ]
  },
  {
   "cell_type": "code",
   "execution_count": null,
   "id": "21e0baba-427e-41f4-ba5e-5aeb227500a6",
   "metadata": {},
   "outputs": [],
   "source": []
  }
 ],
 "metadata": {
  "kernelspec": {
   "display_name": "Python 3 (ipykernel)",
   "language": "python",
   "name": "python3"
  },
  "language_info": {
   "codemirror_mode": {
    "name": "ipython",
    "version": 3
   },
   "file_extension": ".py",
   "mimetype": "text/x-python",
   "name": "python",
   "nbconvert_exporter": "python",
   "pygments_lexer": "ipython3",
   "version": "3.11.7"
  }
 },
 "nbformat": 4,
 "nbformat_minor": 5
}
